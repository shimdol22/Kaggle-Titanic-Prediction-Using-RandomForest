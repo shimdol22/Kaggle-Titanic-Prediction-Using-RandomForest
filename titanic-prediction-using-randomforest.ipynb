{
 "cells": [
  {
   "cell_type": "code",
   "execution_count": 1,
   "id": "premium-associate",
   "metadata": {
    "_cell_guid": "b1076dfc-b9ad-4769-8c92-a6c4dae69d19",
    "_uuid": "8f2839f25d086af736a60e9eeb907d3b93b6e0e5",
    "editable": false,
    "execution": {
     "iopub.execute_input": "2021-05-08T08:32:33.443735Z",
     "iopub.status.busy": "2021-05-08T08:32:33.442811Z",
     "iopub.status.idle": "2021-05-08T08:32:33.449049Z",
     "shell.execute_reply": "2021-05-08T08:32:33.448350Z"
    },
    "papermill": {
     "duration": 0.033185,
     "end_time": "2021-05-08T08:32:33.449233",
     "exception": false,
     "start_time": "2021-05-08T08:32:33.416048",
     "status": "completed"
    },
    "tags": []
   },
   "outputs": [
    {
     "name": "stdout",
     "output_type": "stream",
     "text": [
      "/kaggle/input/titanic/train.csv\n",
      "/kaggle/input/titanic/test.csv\n",
      "/kaggle/input/titanic/gender_submission.csv\n"
     ]
    }
   ],
   "source": [
    "# This Python 3 environment comes with many helpful analytics libraries installed\n",
    "# It is defined by the kaggle/python Docker image: https://github.com/kaggle/docker-python\n",
    "# For example, here's several helpful packages to load\n",
    "\n",
    "import numpy as np # linear algebra\n",
    "import pandas as pd # data processing, CSV file I/O (e.g. pd.read_csv)\n",
    "\n",
    "# Input data files are available in the read-only \"../input/\" directory\n",
    "# For example, running this (by clicking run or pressing Shift+Enter) will list all files under the input directory\n",
    "\n",
    "import os\n",
    "for dirname, _, filenames in os.walk('/kaggle/input'):\n",
    "    for filename in filenames:\n",
    "        print(os.path.join(dirname, filename))\n",
    "\n",
    "# You can write up to 20GB to the current directory (/kaggle/working/) that gets preserved as output when you create a version using \"Save & Run All\" \n",
    "# You can also write temporary files to /kaggle/temp/, but they won't be saved outside of the current session"
   ]
  },
  {
   "cell_type": "code",
   "execution_count": 2,
   "id": "fourth-millennium",
   "metadata": {
    "editable": false,
    "execution": {
     "iopub.execute_input": "2021-05-08T08:32:33.485448Z",
     "iopub.status.busy": "2021-05-08T08:32:33.484708Z",
     "iopub.status.idle": "2021-05-08T08:32:33.524165Z",
     "shell.execute_reply": "2021-05-08T08:32:33.523548Z"
    },
    "papermill": {
     "duration": 0.059022,
     "end_time": "2021-05-08T08:32:33.524303",
     "exception": false,
     "start_time": "2021-05-08T08:32:33.465281",
     "status": "completed"
    },
    "tags": []
   },
   "outputs": [
    {
     "data": {
      "text/html": [
       "<div>\n",
       "<style scoped>\n",
       "    .dataframe tbody tr th:only-of-type {\n",
       "        vertical-align: middle;\n",
       "    }\n",
       "\n",
       "    .dataframe tbody tr th {\n",
       "        vertical-align: top;\n",
       "    }\n",
       "\n",
       "    .dataframe thead th {\n",
       "        text-align: right;\n",
       "    }\n",
       "</style>\n",
       "<table border=\"1\" class=\"dataframe\">\n",
       "  <thead>\n",
       "    <tr style=\"text-align: right;\">\n",
       "      <th></th>\n",
       "      <th>PassengerId</th>\n",
       "      <th>Survived</th>\n",
       "      <th>Pclass</th>\n",
       "      <th>Name</th>\n",
       "      <th>Sex</th>\n",
       "      <th>Age</th>\n",
       "      <th>SibSp</th>\n",
       "      <th>Parch</th>\n",
       "      <th>Ticket</th>\n",
       "      <th>Fare</th>\n",
       "      <th>Cabin</th>\n",
       "      <th>Embarked</th>\n",
       "    </tr>\n",
       "  </thead>\n",
       "  <tbody>\n",
       "    <tr>\n",
       "      <th>0</th>\n",
       "      <td>1</td>\n",
       "      <td>0</td>\n",
       "      <td>3</td>\n",
       "      <td>Braund, Mr. Owen Harris</td>\n",
       "      <td>male</td>\n",
       "      <td>22.0</td>\n",
       "      <td>1</td>\n",
       "      <td>0</td>\n",
       "      <td>A/5 21171</td>\n",
       "      <td>7.2500</td>\n",
       "      <td>NaN</td>\n",
       "      <td>S</td>\n",
       "    </tr>\n",
       "    <tr>\n",
       "      <th>1</th>\n",
       "      <td>2</td>\n",
       "      <td>1</td>\n",
       "      <td>1</td>\n",
       "      <td>Cumings, Mrs. John Bradley (Florence Briggs Th...</td>\n",
       "      <td>female</td>\n",
       "      <td>38.0</td>\n",
       "      <td>1</td>\n",
       "      <td>0</td>\n",
       "      <td>PC 17599</td>\n",
       "      <td>71.2833</td>\n",
       "      <td>C85</td>\n",
       "      <td>C</td>\n",
       "    </tr>\n",
       "    <tr>\n",
       "      <th>2</th>\n",
       "      <td>3</td>\n",
       "      <td>1</td>\n",
       "      <td>3</td>\n",
       "      <td>Heikkinen, Miss. Laina</td>\n",
       "      <td>female</td>\n",
       "      <td>26.0</td>\n",
       "      <td>0</td>\n",
       "      <td>0</td>\n",
       "      <td>STON/O2. 3101282</td>\n",
       "      <td>7.9250</td>\n",
       "      <td>NaN</td>\n",
       "      <td>S</td>\n",
       "    </tr>\n",
       "  </tbody>\n",
       "</table>\n",
       "</div>"
      ],
      "text/plain": [
       "   PassengerId  Survived  Pclass  \\\n",
       "0            1         0       3   \n",
       "1            2         1       1   \n",
       "2            3         1       3   \n",
       "\n",
       "                                                Name     Sex   Age  SibSp  \\\n",
       "0                            Braund, Mr. Owen Harris    male  22.0      1   \n",
       "1  Cumings, Mrs. John Bradley (Florence Briggs Th...  female  38.0      1   \n",
       "2                             Heikkinen, Miss. Laina  female  26.0      0   \n",
       "\n",
       "   Parch            Ticket     Fare Cabin Embarked  \n",
       "0      0         A/5 21171   7.2500   NaN        S  \n",
       "1      0          PC 17599  71.2833   C85        C  \n",
       "2      0  STON/O2. 3101282   7.9250   NaN        S  "
      ]
     },
     "execution_count": 2,
     "metadata": {},
     "output_type": "execute_result"
    }
   ],
   "source": [
    "# Get training dataset\n",
    "train_df = pd.read_csv('../input/titanic/train.csv')\n",
    "train_df.head(3)"
   ]
  },
  {
   "cell_type": "code",
   "execution_count": 3,
   "id": "rural-sitting",
   "metadata": {
    "editable": false,
    "execution": {
     "iopub.execute_input": "2021-05-08T08:32:33.560392Z",
     "iopub.status.busy": "2021-05-08T08:32:33.559750Z",
     "iopub.status.idle": "2021-05-08T08:32:33.583502Z",
     "shell.execute_reply": "2021-05-08T08:32:33.582934Z"
    },
    "papermill": {
     "duration": 0.043846,
     "end_time": "2021-05-08T08:32:33.583650",
     "exception": false,
     "start_time": "2021-05-08T08:32:33.539804",
     "status": "completed"
    },
    "tags": []
   },
   "outputs": [
    {
     "data": {
      "text/html": [
       "<div>\n",
       "<style scoped>\n",
       "    .dataframe tbody tr th:only-of-type {\n",
       "        vertical-align: middle;\n",
       "    }\n",
       "\n",
       "    .dataframe tbody tr th {\n",
       "        vertical-align: top;\n",
       "    }\n",
       "\n",
       "    .dataframe thead th {\n",
       "        text-align: right;\n",
       "    }\n",
       "</style>\n",
       "<table border=\"1\" class=\"dataframe\">\n",
       "  <thead>\n",
       "    <tr style=\"text-align: right;\">\n",
       "      <th></th>\n",
       "      <th>PassengerId</th>\n",
       "      <th>Pclass</th>\n",
       "      <th>Name</th>\n",
       "      <th>Sex</th>\n",
       "      <th>Age</th>\n",
       "      <th>SibSp</th>\n",
       "      <th>Parch</th>\n",
       "      <th>Ticket</th>\n",
       "      <th>Fare</th>\n",
       "      <th>Cabin</th>\n",
       "      <th>Embarked</th>\n",
       "    </tr>\n",
       "  </thead>\n",
       "  <tbody>\n",
       "    <tr>\n",
       "      <th>0</th>\n",
       "      <td>892</td>\n",
       "      <td>3</td>\n",
       "      <td>Kelly, Mr. James</td>\n",
       "      <td>male</td>\n",
       "      <td>34.5</td>\n",
       "      <td>0</td>\n",
       "      <td>0</td>\n",
       "      <td>330911</td>\n",
       "      <td>7.8292</td>\n",
       "      <td>NaN</td>\n",
       "      <td>Q</td>\n",
       "    </tr>\n",
       "    <tr>\n",
       "      <th>1</th>\n",
       "      <td>893</td>\n",
       "      <td>3</td>\n",
       "      <td>Wilkes, Mrs. James (Ellen Needs)</td>\n",
       "      <td>female</td>\n",
       "      <td>47.0</td>\n",
       "      <td>1</td>\n",
       "      <td>0</td>\n",
       "      <td>363272</td>\n",
       "      <td>7.0000</td>\n",
       "      <td>NaN</td>\n",
       "      <td>S</td>\n",
       "    </tr>\n",
       "    <tr>\n",
       "      <th>2</th>\n",
       "      <td>894</td>\n",
       "      <td>2</td>\n",
       "      <td>Myles, Mr. Thomas Francis</td>\n",
       "      <td>male</td>\n",
       "      <td>62.0</td>\n",
       "      <td>0</td>\n",
       "      <td>0</td>\n",
       "      <td>240276</td>\n",
       "      <td>9.6875</td>\n",
       "      <td>NaN</td>\n",
       "      <td>Q</td>\n",
       "    </tr>\n",
       "  </tbody>\n",
       "</table>\n",
       "</div>"
      ],
      "text/plain": [
       "   PassengerId  Pclass                              Name     Sex   Age  SibSp  \\\n",
       "0          892       3                  Kelly, Mr. James    male  34.5      0   \n",
       "1          893       3  Wilkes, Mrs. James (Ellen Needs)  female  47.0      1   \n",
       "2          894       2         Myles, Mr. Thomas Francis    male  62.0      0   \n",
       "\n",
       "   Parch  Ticket    Fare Cabin Embarked  \n",
       "0      0  330911  7.8292   NaN        Q  \n",
       "1      0  363272  7.0000   NaN        S  \n",
       "2      0  240276  9.6875   NaN        Q  "
      ]
     },
     "execution_count": 3,
     "metadata": {},
     "output_type": "execute_result"
    }
   ],
   "source": [
    "# Get test dataset\n",
    "test_df = pd.read_csv('../input/titanic/test.csv')\n",
    "test_df.head(3)"
   ]
  },
  {
   "cell_type": "code",
   "execution_count": 4,
   "id": "aggressive-anaheim",
   "metadata": {
    "editable": false,
    "execution": {
     "iopub.execute_input": "2021-05-08T08:32:33.638604Z",
     "iopub.status.busy": "2021-05-08T08:32:33.637864Z",
     "iopub.status.idle": "2021-05-08T08:32:33.641447Z",
     "shell.execute_reply": "2021-05-08T08:32:33.641894Z"
    },
    "papermill": {
     "duration": 0.0422,
     "end_time": "2021-05-08T08:32:33.642058",
     "exception": false,
     "start_time": "2021-05-08T08:32:33.599858",
     "status": "completed"
    },
    "tags": []
   },
   "outputs": [
    {
     "name": "stdout",
     "output_type": "stream",
     "text": [
      "<class 'pandas.core.frame.DataFrame'>\n",
      "RangeIndex: 891 entries, 0 to 890\n",
      "Data columns (total 12 columns):\n",
      " #   Column       Non-Null Count  Dtype  \n",
      "---  ------       --------------  -----  \n",
      " 0   PassengerId  891 non-null    int64  \n",
      " 1   Survived     891 non-null    int64  \n",
      " 2   Pclass       891 non-null    int64  \n",
      " 3   Name         891 non-null    object \n",
      " 4   Sex          891 non-null    object \n",
      " 5   Age          714 non-null    float64\n",
      " 6   SibSp        891 non-null    int64  \n",
      " 7   Parch        891 non-null    int64  \n",
      " 8   Ticket       891 non-null    object \n",
      " 9   Fare         891 non-null    float64\n",
      " 10  Cabin        204 non-null    object \n",
      " 11  Embarked     889 non-null    object \n",
      "dtypes: float64(2), int64(5), object(5)\n",
      "memory usage: 83.7+ KB\n",
      "None\n"
     ]
    }
   ],
   "source": [
    "# train data info\n",
    "\n",
    "print(train_df.info())"
   ]
  },
  {
   "cell_type": "code",
   "execution_count": 5,
   "id": "mobile-attachment",
   "metadata": {
    "editable": false,
    "execution": {
     "iopub.execute_input": "2021-05-08T08:32:33.689641Z",
     "iopub.status.busy": "2021-05-08T08:32:33.688883Z",
     "iopub.status.idle": "2021-05-08T08:32:33.692951Z",
     "shell.execute_reply": "2021-05-08T08:32:33.692363Z"
    },
    "papermill": {
     "duration": 0.034263,
     "end_time": "2021-05-08T08:32:33.693077",
     "exception": false,
     "start_time": "2021-05-08T08:32:33.658814",
     "status": "completed"
    },
    "tags": []
   },
   "outputs": [
    {
     "name": "stdout",
     "output_type": "stream",
     "text": [
      "<class 'pandas.core.frame.DataFrame'>\n",
      "RangeIndex: 418 entries, 0 to 417\n",
      "Data columns (total 11 columns):\n",
      " #   Column       Non-Null Count  Dtype  \n",
      "---  ------       --------------  -----  \n",
      " 0   PassengerId  418 non-null    int64  \n",
      " 1   Pclass       418 non-null    int64  \n",
      " 2   Name         418 non-null    object \n",
      " 3   Sex          418 non-null    object \n",
      " 4   Age          332 non-null    float64\n",
      " 5   SibSp        418 non-null    int64  \n",
      " 6   Parch        418 non-null    int64  \n",
      " 7   Ticket       418 non-null    object \n",
      " 8   Fare         417 non-null    float64\n",
      " 9   Cabin        91 non-null     object \n",
      " 10  Embarked     418 non-null    object \n",
      "dtypes: float64(2), int64(4), object(5)\n",
      "memory usage: 36.0+ KB\n",
      "None\n"
     ]
    }
   ],
   "source": [
    "# test data info\n",
    "\n",
    "print(test_df.info())"
   ]
  },
  {
   "cell_type": "markdown",
   "id": "advised-invention",
   "metadata": {
    "editable": false,
    "papermill": {
     "duration": 0.017028,
     "end_time": "2021-05-08T08:32:33.727619",
     "exception": false,
     "start_time": "2021-05-08T08:32:33.710591",
     "status": "completed"
    },
    "tags": []
   },
   "source": [
    "> Basic EDA"
   ]
  },
  {
   "cell_type": "code",
   "execution_count": 6,
   "id": "acoustic-florist",
   "metadata": {
    "editable": false,
    "execution": {
     "iopub.execute_input": "2021-05-08T08:32:33.773324Z",
     "iopub.status.busy": "2021-05-08T08:32:33.772528Z",
     "iopub.status.idle": "2021-05-08T08:32:33.778346Z",
     "shell.execute_reply": "2021-05-08T08:32:33.777205Z"
    },
    "papermill": {
     "duration": 0.033927,
     "end_time": "2021-05-08T08:32:33.778616",
     "exception": false,
     "start_time": "2021-05-08T08:32:33.744689",
     "status": "completed"
    },
    "tags": []
   },
   "outputs": [
    {
     "name": "stdout",
     "output_type": "stream",
     "text": [
      " Sex value counts :\n",
      " male      577\n",
      "female    314\n",
      "Name: Sex, dtype: int64\n",
      "\n",
      " Cabin value counts :\n",
      " G6             4\n",
      "C23 C25 C27    4\n",
      "B96 B98        4\n",
      "F33            3\n",
      "F2             3\n",
      "              ..\n",
      "B80            1\n",
      "B101           1\n",
      "A36            1\n",
      "A32            1\n",
      "B69            1\n",
      "Name: Cabin, Length: 147, dtype: int64\n",
      "\n",
      " Embarked vlaue counts :\n",
      " S    644\n",
      "C    168\n",
      "Q     77\n",
      "Name: Embarked, dtype: int64\n"
     ]
    }
   ],
   "source": [
    "print(' Sex value counts :\\n',train_df['Sex'].value_counts())\n",
    "print('\\n Cabin value counts :\\n',train_df['Cabin'].value_counts())\n",
    "print('\\n Embarked vlaue counts :\\n',train_df['Embarked'].value_counts())"
   ]
  },
  {
   "cell_type": "code",
   "execution_count": 7,
   "id": "operational-travel",
   "metadata": {
    "editable": false,
    "execution": {
     "iopub.execute_input": "2021-05-08T08:32:33.820383Z",
     "iopub.status.busy": "2021-05-08T08:32:33.819618Z",
     "iopub.status.idle": "2021-05-08T08:32:34.922581Z",
     "shell.execute_reply": "2021-05-08T08:32:34.923055Z"
    },
    "papermill": {
     "duration": 1.125563,
     "end_time": "2021-05-08T08:32:34.923234",
     "exception": false,
     "start_time": "2021-05-08T08:32:33.797671",
     "status": "completed"
    },
    "tags": []
   },
   "outputs": [
    {
     "data": {
      "text/plain": [
       "<AxesSubplot:xlabel='Sex', ylabel='Survived'>"
      ]
     },
     "execution_count": 7,
     "metadata": {},
     "output_type": "execute_result"
    },
    {
     "data": {
      "image/png": "[encoded data removed]",
      "text/plain": [
       "<Figure size 432x288 with 1 Axes>"
      ]
     },
     "metadata": {
      "needs_background": "light"
     },
     "output_type": "display_data"
    }
   ],
   "source": [
    "import seaborn as sns\n",
    "\n",
    "sns.barplot(x='Sex', y = 'Survived', data=train_df)"
   ]
  },
  {
   "cell_type": "code",
   "execution_count": 8,
   "id": "saved-royalty",
   "metadata": {
    "editable": false,
    "execution": {
     "iopub.execute_input": "2021-05-08T08:32:34.968581Z",
     "iopub.status.busy": "2021-05-08T08:32:34.967576Z",
     "iopub.status.idle": "2021-05-08T08:32:35.327478Z",
     "shell.execute_reply": "2021-05-08T08:32:35.326918Z"
    },
    "papermill": {
     "duration": 0.386176,
     "end_time": "2021-05-08T08:32:35.327632",
     "exception": false,
     "start_time": "2021-05-08T08:32:34.941456",
     "status": "completed"
    },
    "tags": []
   },
   "outputs": [
    {
     "data": {
      "text/plain": [
       "<AxesSubplot:xlabel='Pclass', ylabel='Survived'>"
      ]
     },
     "execution_count": 8,
     "metadata": {},
     "output_type": "execute_result"
    },
    {
     "data": {
      "image/png": "[encoded data removed]",
      "text/plain": [
       "<Figure size 432x288 with 1 Axes>"
      ]
     },
     "metadata": {
      "needs_background": "light"
     },
     "output_type": "display_data"
    }
   ],
   "source": [
    "sns.barplot(x='Pclass', y='Survived', hue='Sex', data=train_df)"
   ]
  },
  {
   "cell_type": "code",
   "execution_count": 9,
   "id": "featured-front",
   "metadata": {
    "editable": false,
    "execution": {
     "iopub.execute_input": "2021-05-08T08:32:35.381725Z",
     "iopub.status.busy": "2021-05-08T08:32:35.380787Z",
     "iopub.status.idle": "2021-05-08T08:32:36.123159Z",
     "shell.execute_reply": "2021-05-08T08:32:36.122641Z"
    },
    "papermill": {
     "duration": 0.775657,
     "end_time": "2021-05-08T08:32:36.123301",
     "exception": false,
     "start_time": "2021-05-08T08:32:35.347644",
     "status": "completed"
    },
    "tags": []
   },
   "outputs": [
    {
     "data": {
      "image/png": "[encoded data removed]",
      "text/plain": [
       "<Figure size 720x432 with 1 Axes>"
      ]
     },
     "metadata": {
      "needs_background": "light"
     },
     "output_type": "display_data"
    }
   ],
   "source": [
    "import matplotlib.pyplot as plt\n",
    "\n",
    "# Split age using apply lambda \n",
    "def get_category(age):\n",
    "    cat = ''\n",
    "    if age <= -1: cat = 'Unknown'\n",
    "    elif age <= 5: cat = 'Baby'\n",
    "    elif age <= 12: cat = 'Child'\n",
    "    elif age <= 18: cat = 'Teenager'\n",
    "    elif age <= 25: cat = 'Student'\n",
    "    elif age <= 35: cat = 'Young Adult'\n",
    "    elif age <= 60: cat = 'Adult'\n",
    "    else : cat = 'Elderly'\n",
    "    \n",
    "    return cat\n",
    "\n",
    "plt.figure(figsize=(10,6))\n",
    "\n",
    "group_names = ['Unknown', 'Baby', 'Child', 'Teenager', 'Student', 'Young Adult', 'Adult', 'Elderly']\n",
    "\n",
    "train_df['Age_cat'] = train_df['Age'].apply(lambda x : get_category(x))\n",
    "sns.barplot(x='Age_cat', y = 'Survived', hue='Sex', data=train_df, order=group_names)\n",
    "train_df.drop('Age_cat', axis=1, inplace=True)"
   ]
  },
  {
   "cell_type": "markdown",
   "id": "static-rings",
   "metadata": {
    "editable": false,
    "papermill": {
     "duration": 0.020455,
     "end_time": "2021-05-08T08:32:36.164742",
     "exception": false,
     "start_time": "2021-05-08T08:32:36.144287",
     "status": "completed"
    },
    "tags": []
   },
   "source": [
    "> Preprocessing"
   ]
  },
  {
   "cell_type": "code",
   "execution_count": 10,
   "id": "hairy-present",
   "metadata": {
    "editable": false,
    "execution": {
     "iopub.execute_input": "2021-05-08T08:32:36.215930Z",
     "iopub.status.busy": "2021-05-08T08:32:36.215246Z",
     "iopub.status.idle": "2021-05-08T08:32:36.360064Z",
     "shell.execute_reply": "2021-05-08T08:32:36.360600Z"
    },
    "papermill": {
     "duration": 0.175292,
     "end_time": "2021-05-08T08:32:36.360852",
     "exception": false,
     "start_time": "2021-05-08T08:32:36.185560",
     "status": "completed"
    },
    "tags": []
   },
   "outputs": [],
   "source": [
    "from sklearn.preprocessing import LabelEncoder\n",
    "\n",
    "# Handling NULL\n",
    "def fillna(df):\n",
    "    df['Age'].fillna(df['Age'].mean(),inplace=True)\n",
    "    df['Cabin'].fillna('N',inplace=True)\n",
    "    df['Embarked'].fillna('N',inplace=True)\n",
    "    df['Fare'].fillna(0,inplace=True)\n",
    "\n",
    "    return df\n",
    "\n",
    "# Drop useless features for machine learning\n",
    "def drop_features(df):\n",
    "    df.drop(['PassengerId','Name','Ticket'] ,axis=1,inplace=True)\n",
    "    return df\n",
    "\n",
    "# label encoding. \n",
    "def format_features(df):\n",
    "    df['Cabin'] = df['Cabin'].str[:1]\n",
    "    features = ['Cabin','Sex','Embarked']\n",
    "    for feature in features:\n",
    "        le = LabelEncoder()\n",
    "        le = le.fit(df[feature])\n",
    "        df[feature] = le.transform(df[feature])\n",
    "    return df\n",
    "\n",
    "def transform_features(df):\n",
    "    df = fillna(df)\n",
    "    df = drop_features(df)\n",
    "    df = format_features(df)\n",
    "    return df"
   ]
  },
  {
   "cell_type": "code",
   "execution_count": 11,
   "id": "single-consolidation",
   "metadata": {
    "editable": false,
    "execution": {
     "iopub.execute_input": "2021-05-08T08:32:36.407979Z",
     "iopub.status.busy": "2021-05-08T08:32:36.407032Z",
     "iopub.status.idle": "2021-05-08T08:32:36.423789Z",
     "shell.execute_reply": "2021-05-08T08:32:36.423190Z"
    },
    "papermill": {
     "duration": 0.042005,
     "end_time": "2021-05-08T08:32:36.423926",
     "exception": false,
     "start_time": "2021-05-08T08:32:36.381921",
     "status": "completed"
    },
    "tags": []
   },
   "outputs": [],
   "source": [
    "train_df = pd.read_csv('../input/titanic/train.csv')\n",
    "y_train = train_df['Survived']\n",
    "X_train= train_df.drop('Survived',axis=1)\n",
    "\n",
    "X_train = transform_features(X_train)"
   ]
  },
  {
   "cell_type": "code",
   "execution_count": 12,
   "id": "durable-network",
   "metadata": {
    "editable": false,
    "execution": {
     "iopub.execute_input": "2021-05-08T08:32:36.470624Z",
     "iopub.status.busy": "2021-05-08T08:32:36.469993Z",
     "iopub.status.idle": "2021-05-08T08:32:36.481846Z",
     "shell.execute_reply": "2021-05-08T08:32:36.481285Z"
    },
    "papermill": {
     "duration": 0.037038,
     "end_time": "2021-05-08T08:32:36.481999",
     "exception": false,
     "start_time": "2021-05-08T08:32:36.444961",
     "status": "completed"
    },
    "tags": []
   },
   "outputs": [],
   "source": [
    "test_df = pd.read_csv('../input/titanic/test.csv')\n",
    "\n",
    "X_test = transform_features(test_df)"
   ]
  },
  {
   "cell_type": "code",
   "execution_count": 13,
   "id": "treated-messaging",
   "metadata": {
    "editable": false,
    "execution": {
     "iopub.execute_input": "2021-05-08T08:32:36.529077Z",
     "iopub.status.busy": "2021-05-08T08:32:36.528345Z",
     "iopub.status.idle": "2021-05-08T08:32:36.594694Z",
     "shell.execute_reply": "2021-05-08T08:32:36.594123Z"
    },
    "papermill": {
     "duration": 0.091894,
     "end_time": "2021-05-08T08:32:36.594830",
     "exception": false,
     "start_time": "2021-05-08T08:32:36.502936",
     "status": "completed"
    },
    "tags": []
   },
   "outputs": [],
   "source": [
    "from sklearn.model_selection import train_test_split\n",
    "X_train, X_val, y_train, y_val=train_test_split(X_train, y_train, \\\n",
    "                                                  test_size=0.2, random_state=11)"
   ]
  },
  {
   "cell_type": "code",
   "execution_count": 14,
   "id": "cellular-factor",
   "metadata": {
    "editable": false,
    "execution": {
     "iopub.execute_input": "2021-05-08T08:32:36.645810Z",
     "iopub.status.busy": "2021-05-08T08:32:36.644977Z",
     "iopub.status.idle": "2021-05-08T08:32:38.185812Z",
     "shell.execute_reply": "2021-05-08T08:32:38.186601Z"
    },
    "papermill": {
     "duration": 1.570605,
     "end_time": "2021-05-08T08:32:38.186855",
     "exception": false,
     "start_time": "2021-05-08T08:32:36.616250",
     "status": "completed"
    },
    "tags": []
   },
   "outputs": [
    {
     "name": "stdout",
     "output_type": "stream",
     "text": [
      "DecisionTreeClassifier Accuracy: 0.7877\n",
      "RandomForestClassifier Accuracy:0.8492\n",
      "LogisticRegression Accuracy: 0.8492\n"
     ]
    },
    {
     "name": "stderr",
     "output_type": "stream",
     "text": [
      "/opt/conda/lib/python3.7/site-packages/sklearn/linear_model/_logistic.py:765: ConvergenceWarning: lbfgs failed to converge (status=1):\n",
      "STOP: TOTAL NO. of ITERATIONS REACHED LIMIT.\n",
      "\n",
      "Increase the number of iterations (max_iter) or scale the data as shown in:\n",
      "    https://scikit-learn.org/stable/modules/preprocessing.html\n",
      "Please also refer to the documentation for alternative solver options:\n",
      "    https://scikit-learn.org/stable/modules/linear_model.html#logistic-regression\n",
      "  extra_warning_msg=_LOGISTIC_SOLVER_CONVERGENCE_MSG)\n"
     ]
    }
   ],
   "source": [
    "from sklearn.tree import DecisionTreeClassifier\n",
    "from sklearn.ensemble import RandomForestClassifier\n",
    "from sklearn.linear_model import LogisticRegression\n",
    "from sklearn.metrics import accuracy_score\n",
    "\n",
    "\n",
    "# Construct Classifier class for DecisionTree, Random Forest, LogisticRegression,  Classifier \n",
    "dt_clf = DecisionTreeClassifier(random_state=11)\n",
    "rf_clf = RandomForestClassifier(n_estimators= 500,random_state=11)\n",
    "lr_clf = LogisticRegression()\n",
    "\n",
    "# DecisionTreeClassifier train/val/\n",
    "dt_clf.fit(X_train , y_train)\n",
    "dt_pred = dt_clf.predict(X_val)\n",
    "print('DecisionTreeClassifier Accuracy: {0:.4f}'.format(accuracy_score(y_val, dt_pred)))\n",
    "\n",
    "# RandomForestClassifier train/val/\n",
    "rf_clf.fit(X_train , y_train)\n",
    "rf_pred = rf_clf.predict(X_val)\n",
    "print('RandomForestClassifier Accuracy:{0:.4f}'.format(accuracy_score(y_val, rf_pred)))\n",
    "\n",
    "# LogisticRegression train/val/\n",
    "lr_clf.fit(X_train , y_train)\n",
    "lr_pred = lr_clf.predict(X_val)\n",
    "print('LogisticRegression Accuracy: {0:.4f}'.format(accuracy_score(y_val, lr_pred)))"
   ]
  },
  {
   "cell_type": "code",
   "execution_count": 15,
   "id": "owned-cooperative",
   "metadata": {
    "editable": false,
    "execution": {
     "iopub.execute_input": "2021-05-08T08:32:38.243746Z",
     "iopub.status.busy": "2021-05-08T08:32:38.243076Z",
     "iopub.status.idle": "2021-05-08T08:32:47.563645Z",
     "shell.execute_reply": "2021-05-08T08:32:47.562853Z"
    },
    "papermill": {
     "duration": 9.35305,
     "end_time": "2021-05-08T08:32:47.563846",
     "exception": false,
     "start_time": "2021-05-08T08:32:38.210796",
     "status": "completed"
    },
    "tags": []
   },
   "outputs": [
    {
     "name": "stdout",
     "output_type": "stream",
     "text": [
      "GridSearchCV Best_Params : {'max_depth': 10, 'min_samples_leaf': 10, 'min_samples_split': 2}\n",
      "GridSearchCV Best_score: 0.8006\n"
     ]
    }
   ],
   "source": [
    "from sklearn.model_selection import GridSearchCV\n",
    "\n",
    "parameters = {\n",
    "             'max_depth':[2,3,5,10,12,15,17,20],\n",
    "             'min_samples_split':[2,3,5,6,8,10], \n",
    "              'min_samples_leaf':[1,5,8,10,13,15]\n",
    "}\n",
    "\n",
    "grid_dclf = GridSearchCV(dt_clf , param_grid=parameters , scoring='accuracy' , cv=5)\n",
    "grid_dclf.fit(X_train , y_train)\n",
    "\n",
    "print('GridSearchCV Best_Params :',grid_dclf.best_params_)\n",
    "print('GridSearchCV Best_score: {0:.4f}'.format(grid_dclf.best_score_))\n",
    "best_dclf = grid_dclf.best_estimator_\n",
    "\n",
    "dpredictions = best_dclf.predict(X_test)\n",
    "#accuracy = accuracy_score(y_test , dpredictions)\n",
    "#print('테스트 세트에서의 DecisionTreeClassifier 정확도 : {0:.4f}'.format(accuracy))\n"
   ]
  },
  {
   "cell_type": "code",
   "execution_count": 16,
   "id": "tested-healing",
   "metadata": {
    "editable": false,
    "execution": {
     "iopub.execute_input": "2021-05-08T08:32:47.618089Z",
     "iopub.status.busy": "2021-05-08T08:32:47.617146Z",
     "iopub.status.idle": "2021-05-08T08:32:47.622941Z",
     "shell.execute_reply": "2021-05-08T08:32:47.623394Z"
    },
    "papermill": {
     "duration": 0.036197,
     "end_time": "2021-05-08T08:32:47.623560",
     "exception": false,
     "start_time": "2021-05-08T08:32:47.587363",
     "status": "completed"
    },
    "tags": []
   },
   "outputs": [
    {
     "data": {
      "text/plain": [
       "array([0, 0, 0, 0, 1, 0, 1, 0, 1, 0, 0, 0, 1, 0, 1, 1, 0, 0, 1, 0, 0, 0,\n",
       "       1, 0, 1, 0, 1, 0, 0, 0, 0, 0, 0, 0, 0, 0, 0, 1, 0, 0, 0, 1, 0, 1,\n",
       "       1, 0, 0, 0, 1, 0, 0, 0, 1, 1, 0, 0, 0, 0, 0, 1, 0, 0, 0, 1, 1, 1,\n",
       "       1, 0, 0, 1, 1, 0, 1, 1, 1, 1, 0, 1, 0, 1, 0, 0, 0, 0, 0, 0, 1, 1,\n",
       "       0, 1, 1, 0, 1, 0, 0, 0, 1, 0, 1, 0, 1, 0, 0, 0, 1, 0, 0, 0, 0, 0,\n",
       "       0, 0, 1, 1, 1, 0, 0, 1, 0, 1, 1, 0, 1, 0, 0, 1, 0, 0, 0, 0, 0, 0,\n",
       "       0, 0, 0, 0, 0, 0, 1, 0, 0, 1, 0, 0, 0, 0, 1, 0, 0, 0, 1, 0, 0, 0,\n",
       "       0, 0, 1, 1, 1, 1, 0, 0, 1, 0, 0, 1, 0, 0, 1, 1, 0, 0, 0, 0, 0, 1,\n",
       "       1, 0, 1, 1, 0, 1, 1, 0, 1, 0, 1, 0, 0, 0, 0, 0, 0, 0, 0, 0, 1, 1,\n",
       "       0, 0, 0, 1, 0, 1, 0, 0, 0, 0, 1, 0, 0, 0, 0, 1, 0, 0, 0, 0, 1, 0,\n",
       "       1, 0, 1, 0, 1, 0, 0, 0, 0, 0, 0, 1, 0, 0, 0, 0, 0, 0, 1, 1, 1, 1,\n",
       "       0, 0, 0, 1, 1, 0, 1, 0, 1, 0, 1, 0, 0, 0, 0, 0, 1, 0, 0, 0, 1, 1,\n",
       "       0, 0, 0, 0, 0, 0, 0, 0, 1, 0, 0, 1, 0, 0, 0, 0, 1, 1, 0, 1, 1, 0,\n",
       "       0, 1, 0, 0, 0, 1, 0, 0, 0, 0, 1, 0, 0, 0, 0, 1, 0, 0, 0, 1, 1, 1,\n",
       "       0, 0, 0, 0, 0, 0, 1, 1, 0, 0, 0, 0, 0, 0, 0, 0, 1, 0, 1, 0, 0, 0,\n",
       "       1, 0, 0, 1, 0, 0, 0, 0, 0, 0, 0, 0, 0, 1, 0, 1, 0, 0, 0, 1, 1, 0,\n",
       "       0, 0, 1, 0, 1, 0, 0, 1, 0, 1, 1, 0, 1, 0, 0, 0, 1, 0, 0, 1, 0, 0,\n",
       "       1, 1, 1, 0, 0, 0, 0, 0, 0, 1, 0, 1, 0, 0, 0, 0, 1, 1, 0, 0, 0, 1,\n",
       "       0, 1, 0, 0, 1, 0, 1, 0, 1, 1, 0, 0, 0, 1, 0, 1, 1, 0, 1, 0, 0, 0])"
      ]
     },
     "execution_count": 16,
     "metadata": {},
     "output_type": "execute_result"
    }
   ],
   "source": [
    "finals_pred = best_dclf.predict(X_test)\n",
    "\n",
    "finals_pred"
   ]
  },
  {
   "cell_type": "code",
   "execution_count": 17,
   "id": "different-chaos",
   "metadata": {
    "editable": false,
    "execution": {
     "iopub.execute_input": "2021-05-08T08:32:47.675284Z",
     "iopub.status.busy": "2021-05-08T08:32:47.674317Z",
     "iopub.status.idle": "2021-05-08T08:32:47.693615Z",
     "shell.execute_reply": "2021-05-08T08:32:47.692930Z"
    },
    "papermill": {
     "duration": 0.046494,
     "end_time": "2021-05-08T08:32:47.693783",
     "exception": false,
     "start_time": "2021-05-08T08:32:47.647289",
     "status": "completed"
    },
    "tags": []
   },
   "outputs": [],
   "source": [
    "predict = pd.DataFrame(finals_pred)\n",
    "sub_d = pd.read_csv('../input/titanic/gender_submission.csv')\n",
    "sub_d['Survived'] = predict\n",
    "sub_d.to_csv('Submissionsd.csv', index = False)"
   ]
  },
  {
   "cell_type": "code",
   "execution_count": 18,
   "id": "polar-marking",
   "metadata": {
    "execution": {
     "iopub.execute_input": "2021-05-08T08:32:47.745980Z",
     "iopub.status.busy": "2021-05-08T08:32:47.745010Z",
     "iopub.status.idle": "2021-05-08T08:32:47.756934Z",
     "shell.execute_reply": "2021-05-08T08:32:47.756278Z"
    },
    "papermill": {
     "duration": 0.038833,
     "end_time": "2021-05-08T08:32:47.757071",
     "exception": false,
     "start_time": "2021-05-08T08:32:47.718238",
     "status": "completed"
    },
    "tags": []
   },
   "outputs": [
    {
     "data": {
      "text/html": [
       "<div>\n",
       "<style scoped>\n",
       "    .dataframe tbody tr th:only-of-type {\n",
       "        vertical-align: middle;\n",
       "    }\n",
       "\n",
       "    .dataframe tbody tr th {\n",
       "        vertical-align: top;\n",
       "    }\n",
       "\n",
       "    .dataframe thead th {\n",
       "        text-align: right;\n",
       "    }\n",
       "</style>\n",
       "<table border=\"1\" class=\"dataframe\">\n",
       "  <thead>\n",
       "    <tr style=\"text-align: right;\">\n",
       "      <th></th>\n",
       "      <th>PassengerId</th>\n",
       "      <th>Survived</th>\n",
       "    </tr>\n",
       "  </thead>\n",
       "  <tbody>\n",
       "    <tr>\n",
       "      <th>0</th>\n",
       "      <td>892</td>\n",
       "      <td>0</td>\n",
       "    </tr>\n",
       "    <tr>\n",
       "      <th>1</th>\n",
       "      <td>893</td>\n",
       "      <td>0</td>\n",
       "    </tr>\n",
       "    <tr>\n",
       "      <th>2</th>\n",
       "      <td>894</td>\n",
       "      <td>0</td>\n",
       "    </tr>\n",
       "    <tr>\n",
       "      <th>3</th>\n",
       "      <td>895</td>\n",
       "      <td>0</td>\n",
       "    </tr>\n",
       "    <tr>\n",
       "      <th>4</th>\n",
       "      <td>896</td>\n",
       "      <td>1</td>\n",
       "    </tr>\n",
       "  </tbody>\n",
       "</table>\n",
       "</div>"
      ],
      "text/plain": [
       "   PassengerId  Survived\n",
       "0          892         0\n",
       "1          893         0\n",
       "2          894         0\n",
       "3          895         0\n",
       "4          896         1"
      ]
     },
     "execution_count": 18,
     "metadata": {},
     "output_type": "execute_result"
    }
   ],
   "source": [
    "submission =  pd.read_csv('Submissionsd.csv')\n",
    "submission.head()"
   ]
  },
  {
   "cell_type": "code",
   "execution_count": null,
   "id": "alternative-awareness",
   "metadata": {
    "editable": false,
    "papermill": {
     "duration": 0.024272,
     "end_time": "2021-05-08T08:32:47.806071",
     "exception": false,
     "start_time": "2021-05-08T08:32:47.781799",
     "status": "completed"
    },
    "tags": []
   },
   "outputs": [],
   "source": []
  }
 ],
 "metadata": {
  "kernelspec": {
   "display_name": "Python 3",
   "language": "python",
   "name": "python3"
  },
  "language_info": {
   "codemirror_mode": {
    "name": "ipython",
    "version": 3
   },
   "file_extension": ".py",
   "mimetype": "text/x-python",
   "name": "python",
   "nbconvert_exporter": "python",
   "pygments_lexer": "ipython3",
   "version": "3.7.10"
  },
  "papermill": {
   "default_parameters": {},
   "duration": 23.860905,
   "end_time": "2021-05-08T08:32:49.126083",
   "environment_variables": {},
   "exception": null,
   "input_path": "__notebook__.ipynb",
   "output_path": "__notebook__.ipynb",
   "parameters": {},
   "start_time": "2021-05-08T08:32:25.265178",
   "version": "2.3.3"
  }
 },
 "nbformat": 4,
 "nbformat_minor": 5
}
